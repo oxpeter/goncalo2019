{
 "cells": [
  {
   "cell_type": "markdown",
   "metadata": {},
   "source": [
    "# RNAseq analysis of endothelial cells\n",
    "> Goncalo Rodrigues _et al._ (2018)\n"
   ]
  },
  {
   "cell_type": "markdown",
   "metadata": {
    "toc-hr-collapsed": true
   },
   "source": [
    "# METHODS\n",
    "### RNASeq Quality check and alignment\n",
    "RNASeq fastq files were analyzed with FastQC[1] v0.11.7 to assess sequence base quality, per-base sequence content, GC content, N content, and the sequence length distribution. Reads were subsequently trimmed using Trimmomatic[2] v0.38, to remove Illumina adapters, leading and trailing bases with score ≤ 3, all bases after the sliding window average ≤ 15, and all edited reads ≤ 36 bp.\n",
    "Reads were aligned to _Mus musculus_ annotation GRCm38.p6 using Salmon[3] v0.10.0. Default parameters were used for building the index and for alignment.\n",
    "\n",
    "\n",
    "### Differential expression analysis\n",
    "DESeq2[4] v1.18.1 was used to assess differential gene expression using the likelihood ratio test, with the model `~ replicate + condition` analyzed against the reduced model `~ replicate`. Variance Stabilized Transformed gene counts were used to identify outliers, using both Principal Component Analysis and sample clustering (using the euclidean distance metric and the complete clustering method). Two samples - wildtype replicate C and knockout 2 replicate A - were removed from further analysis.\n",
    "\n",
    "To identify significant contrasts between treatments, a _post hoc_ analysis of genes differentially expressed according to LRT analysis was performed. DESeq2 was used to perform the nbinomial Wald test for contrasts between PBS, WT, KO1 and KO2. \n",
    "\n",
    "The focal gene set was identified as those genes in which:\n",
    "* the likelihood ratio test was significant (*p* ≤ 0.05)\n",
    "* WT and PBS were significantly differentially expressed (*p* ≤ 0.05)\n",
    "* WT was significantly different from both KO1 and KO2 (*p* ≤ 0.05 in each contrast)\n",
    "* KO1 and KO2 were concordantly up- or down- regulated with regard to WT\n",
    "\n",
    "Log2(Fold change) values and _p_ values are reported according to the Wald tests.\n",
    "\n",
    "Gene names were mapped to entrez gene identifiers using ensembl biomart[5], mouse version GRCm38.p6.\n",
    "\n",
    "All scripts and output of the differential analysis are available at doi: [![DOI](https://zenodo.org/badge/171735540.svg)](https://zenodo.org/badge/latestdoi/171735540)\n",
    ". The R Script used for differential expression analysis can be found in supplementary file differential-expression-analysis.R The python script used for subsequent post hoc analysis can be found in the Jupyter notebooks endothelial_expression_analysis.ipynb and microglial_expression_analysis.ipynb.\n",
    "\n",
    "\n",
    "### Bibliography\n",
    "1. Andrews, S. FastQC: a quality control tool for high throughput sequence data. (2010). at <http://www.bioinformatics.babraham.ac.uk/projects/fastqc>\n",
    "2. Bolger, A. M., Lohse, M. & Usadel, B. Trimmomatic: a flexible trimmer for Illumina sequence data. Bioinformatics 30, 2114–2120 (2014).\n",
    "3. Patro, R., Duggal, G., Love, M. I., Irizarry, R. A. & Kingsford, C. Salmon provides fast and bias-aware quantification of transcript expression. Nat. Methods 14, 417–419 (2017).\n",
    "4. Love, M. I., Huber, W. & Anders, S. Moderated estimation of fold change and  dispersion for RNA-seq data with DESeq2. Genome Biol. 15, 550 (2014).\n",
    "5. Zerbino, D. R. et al. Ensembl 2018. Nucleic Acids Res. 46, D754–D761 (2018).\n"
   ]
  },
  {
   "cell_type": "markdown",
   "metadata": {},
   "source": [
    "# Samples\n",
    "\n",
    "| condition | cell | replicate | date | sample_id | filename |\n",
    "|---|---|---|---|---|---|\n",
    "| Knull | EC | A | 3-7-2018 | S25 | 01-EC---3-7-2018_S25_R1_001.quant |\n",
    "| Knull | MG | A | 3-7-2018 | S26 | 01-MG---3-7-2018_S26_R1_001.quant |\n",
    "| Knull | EC | C | 2-22-2018 | S5 | 10-EC---2-22-2018_S5_R1_001.quant |\n",
    "| Knull | EC | B | 3-2-2018 | S15 | 10-EC--p8--3-2-2018_S15_R1_001.quant |\n",
    "| Knull | MG | C | 2-22-2018 | S6 | 10-MG---2-22-2018_S6_R1_001.quant |\n",
    "| Knull | MG | B | 3-2-2018 | S16 | 10-MG--p12--3-2-2018_S16_R1_001.quant |\n",
    "| KO1 | EC | C | 2-22-2018 | S7 | 57-1-EC---2-22-2018_S7_R1_001.quant |\n",
    "| KO1 | EC | B | 3-2-2018 | S17 | 57-1-EC--p8--3-2-2018_S17_R1_001.quant |\n",
    "| KO1 | MG | C | 2-22-2018 | S8 | 57-1-MG---2-22-2018_S8_R1_001.quant |\n",
    "| KO1 | MG | B | 3-2-2018 | S18 | 57-1-MG--p12--3-2-2018_S18_R1_001.quant |\n",
    "| KO1 | EC | A | 3-7-2018 | S27 | 57-EC---3-7-2018_S27_R1_001.quant |\n",
    "| KO1 | MG | A | 3-7-2018 | S28 | 57-MG---3-7-2018_S28_R1_001.quant |\n",
    "| KO2 | EC | C | 2-22-2018 | S9 | 59-1-EC---2-22-2018_S9_R1_001.quant |\n",
    "| KO2 | EC | B | 3-2-2018 | S19 | 59-1-EC--p8--3-2-2018_S19_R1_001.quant |\n",
    "| KO2 | MG | C | 2-22-2018 | S10 | 59-1-MG---2-22-2018_S10_R1_001.quant |\n",
    "| KO2 | MG | B | 3-2-2018 | S20 | 59-1-MG--p12--3-2-2018_S20_R1_001.quant |\n",
    "| KO2 | EC | A | 3-7-2018 | S29 | 59-EC---3-7-2018_S29_R1_001.quant |\n",
    "| KO2 | MG | A | 3-7-2018 | S30 | 59-MG---3-7-2018_S30_R1_001.quant |\n",
    "| PBS | EC | A | 3-7-2018 | S21 | PBS-EC---3-7-2018_S21_R1_001.quant |\n",
    "| PBS | EC | B | 3-2-2018 | S11 | PBSg-EC---3-2-2018_S11_R1_001.quant |\n",
    "| PBS | EC | C | 2-22-2018 | S1 | PBSg-EC--p8--2-22-2018_S1_R1_001.quant |\n",
    "| PBS | MG | B | 3-2-2018 | S12 | PBSg-MG---3-2-2018_S12_R1_001.quant |\n",
    "| PBS | MG | C | 2-22-2018 | S2 | PBSg-MG--p12--2-22-2018_S2_R1_001.quant |\n",
    "| PBS | MG | A | 3-7-2018 | S22 | PBS-MG---3-7-2018_S22_R1_001.quant |\n",
    "| WT | EC | C | 2-22-2018 | S3 | WT-EC---2-22-2018_S3_R1_001.quant |\n",
    "| WT | EC | A | 3-7-2018 | S23 | WT-EC---3-7-2018_S23_R1_001.quant |\n",
    "| WT | EC | B | 3-2-2018 | S13 | WT-EC--p8--3-2-2018_S13_R1_001.quant |\n",
    "| WT | MG | C | 2-22-2018 | S4 | WT-MG---2-22-2018_S4_R1_001.quant |\n",
    "| WT | MG | A | 3-7-2018 | S24 | WT-MG---3-7-2018_S24_R1_001.quant |\n",
    "| WT | MG | B | 3-2-2018 | S14 | WT-MG--p12--3-2-2018_S14_R1_001.quant |"
   ]
  },
  {
   "cell_type": "markdown",
   "metadata": {},
   "source": [
    "## Scripts\n",
    "### FastQC\n",
    "\n",
    "> ```\n",
    "> java -jar /home/poxley/bin/trimmomatic.jar PE -phred33 $line ILLUMINACLIP:TruSeq3-PE.fa:2:30:10 LEADING:3 TRAILING:3 SLIDINGWINDOW:4:15 MINLEN:36\n",
    "> ```\n",
    "\n",
    "### Salmon\n",
    "\n",
    "Index was built from Mouse reference annotation GRCm38.p6\n",
    "\n",
    "> ```\n",
    "> salmon quant -i /home/poxley/Documents/bioinformatics/indices/mmusculus/mmus_index \\\n",
    "> \t\t-l A \\\n",
    "> \t\t$line \\\n",
    "> \t\t-p 20 \n",
    "> ```\n",
    "\n",
    "### Create gene name conversion tables\n",
    "\n",
    "translate the transcripts into genes:\n",
    "> ```\n",
    "> ensembl <- useMart(\"ensembl\",dataset=\"mmusculus_gene_ensembl\")\n",
    "> attributes <- listAttributes(ensembl)\n",
    "> ```\n",
    "\n",
    "get list of all mRNA ids to convert:\n",
    "> ```\n",
    "> eg_quant <- read_tsv(\"salmon-output/01-EC---3-7-2018_S25_R1_001.quant/quant.sf\")\n",
    "> ```\n",
    "\n",
    "create data frame with name conversions.\n",
    "transcript names must be stripped of their version ids for this db\n",
    "> ```\n",
    "> tx2gene <- getBM(attributes=c('refseq_mrna', 'entrezgene', 'uniprot_gn',  'external_gene_name'),\n",
    ">                  filters = 'refseq_mrna',\n",
    ">                  values = sub(\"\\\\.\\\\d\\\\d?\", \"\", eg_quant$Name),\n",
    ">                  mart = ensembl)\n",
    "> tx2gene <- as_tibble(tx2gene)\n",
    "> write.table(as.data.frame(tx2gene), file = \"scripts/transcript-name-conversion.csv\",\n",
    ">             quote = FALSE,\n",
    ">             sep = ',')\n",
    "> ```\n",
    "\n",
    "### create dataframe for tximport name conversion:\n",
    "> ```\n",
    "> tx2gene_mart <- tx2gene %>% \n",
    ">   dplyr::select(refseq_mrna, entrezgene) %>% \n",
    ">   unique()\n",
    "> ```\n",
    "\n",
    "### remove the rows with no corresponding geneid\n",
    "> ```\n",
    "> tx2gene_mart_clean <- tx2gene_mart[complete.cases(tx2gene_mart),]\n",
    "> ```\n",
    "\n",
    "### prepare salmon quant files\n",
    "set salmon quantification file locations and details\n",
    ">```\n",
    "> data_dir <- \"salmon-output/\"\n",
    "> samples <- read_tsv(file.path(\"docs\", \"sample_info.txt\"), col_names = TRUE )\n",
    "> samples$sample_name <- paste(samples$condition, samples$cell, samples$replicate, sep=\"_\")\n",
    ">```\n",
    "\n",
    "set condition and cell type as factors\n",
    ">```\n",
    "> samples$condition <- factor(samples$condition, levels = c(\"WT\",\"PBS\", \"Knull\", \"KO1\", \"KO2\"))\n",
    "> samples$cell <- factor(samples$cell, levels = c(\"EC\", \"MG\"))\n",
    ">\n",
    ">\n",
    "> samples_endothelial <-  samples %>%\n",
    ">   dplyr::filter(cell == \"EC\") %>% \n",
    ">   dplyr::filter(condition != \"Knull\") %>% \n",
    ">   dplyr::filter(sample_name != \"WT_EC_C\") %>% \n",
    ">\n",
    ">\n",
    "> files_ec <- paste(data_dir,samples_endothelial$filename,\"/quant.sf.trim\", sep=\"\")\n",
    "> names(files_ec) <- paste(samples_endothelial$condition, \n",
    ">                          samples_endothelial$cell, \n",
    ">                         samples_endothelial$replicate, \n",
    ">                         sep=\"_\")\n",
    ">```\n",
    "\n",
    "### import into tximport data frame\n",
    "library(tximport)\n",
    ">```\n",
    "> txi_ec <- tximport(files_ec, type = \"salmon\", tx2gene = tx2gene_mart_clean)\n",
    ">```\n",
    "\n",
    "### run DESeq2\n",
    ">```\n",
    "> library(DESeq2)\n",
    ">```\n",
    "\n",
    "create DESeq2 Data Set dds_ec\n",
    ">```\n",
    "> dds_ec <- DESeqDataSetFromTximport(txi_ec, samples_endothelial, ~ replicate + condition)\n",
    "> dds_ec <- DESeq(dds_ec, test=\"LRT\", reduced = ~ replicate)\n",
    "> res_ec <- results(dds_ec, alpha = 0.05)\n",
    ">\n",
    ">write.csv(res_ec, file = \"DESeq2_R-project/res_ec-results.csv\")\n",
    ">```\n",
    "\n",
    "extract the variance stabilized transformed counts:\n",
    ">```\n",
    "> vsd_ec <- vst(dds_ec, blind = TRUE)\n",
    "> vsd_ec_mat <- assay(vsd_ec)\n",
    "> write.table(as.data.frame(vsd_ec_mat), file = \"DESeq2_R-project/counts-ec-vst.csv\")\n",
    ">```\n",
    "\n",
    "### Wald tests for post-hoc analysis of DEGs identified by LRT analysis\n",
    ">```\n",
    "> dds_ec_wald <- DESeqDataSetFromTximport(txi_ec, samples_endothelial, ~ replicate + condition)\n",
    "> dds_ec_wald <- DESeq(dds_ec_wald)\n",
    "> res_ec_wald_PW <- results(dds_ec_wald, contrast=c(\"condition\",\"PBS\",\"WT\"), alpha=0.05)\n",
    "> res_ec_wald_WK1 <- results(dds_ec_wald, contrast=c(\"condition\",\"WT\",\"KO1\"), alpha=0.05)\n",
    "> res_ec_wald_WK2 <- results(dds_ec_wald, contrast=c(\"condition\",\"WT\",\"KO2\"), alpha=0.05)\n",
    "> \n",
    "> write.csv(res_ec_wald_PW, file = \"DESeq2_R-project/res_ec_wald_PW-results.csv\")\n",
    "> write.csv(res_ec_wald_WK1, file = \"DESeq2_R-project/res_ec_wald_WK1-results.csv\")\n",
    "> write.csv(res_ec_wald_WK2, file = \"DESeq2_R-project/res_ec_wald_WK2-results.csv\")\n",
    ">```"
   ]
  },
  {
   "cell_type": "markdown",
   "metadata": {
    "toc-hr-collapsed": true
   },
   "source": [
    "# NOTEBOOK ANALYSIS"
   ]
  },
  {
   "cell_type": "code",
   "execution_count": 1,
   "metadata": {},
   "outputs": [],
   "source": [
    "import numpy as np\n",
    "import pandas as pd"
   ]
  },
  {
   "cell_type": "code",
   "execution_count": 2,
   "metadata": {},
   "outputs": [],
   "source": [
    "%matplotlib inline\n",
    "import matplotlib.pyplot as plt\n",
    "import matplotlib.patches as mpatches\n",
    "import seaborn as sns"
   ]
  },
  {
   "cell_type": "code",
   "execution_count": 3,
   "metadata": {
    "collapsed": true
   },
   "outputs": [],
   "source": [
    "from scipy.spatial.distance import pdist, squareform, warnings"
   ]
  },
  {
   "cell_type": "code",
   "execution_count": 4,
   "metadata": {},
   "outputs": [],
   "source": [
    "warnings.simplefilter('ignore',)"
   ]
  },
  {
   "cell_type": "code",
   "execution_count": 5,
   "metadata": {},
   "outputs": [],
   "source": [
    "import re"
   ]
  },
  {
   "cell_type": "markdown",
   "metadata": {},
   "source": [
    "## Load Data\n",
    "this includes the DESeq2 LRT analysis results, and the variance stabilized transformed (VST) expression values"
   ]
  },
  {
   "cell_type": "code",
   "execution_count": 6,
   "metadata": {},
   "outputs": [],
   "source": [
    "df_ec = pd.read_csv(\"../DESeq2_R-project/res_ec-results.csv\", sep=',')"
   ]
  },
  {
   "cell_type": "code",
   "execution_count": 7,
   "metadata": {},
   "outputs": [
    {
     "data": {
      "text/html": [
       "<div>\n",
       "<style scoped>\n",
       "    .dataframe tbody tr th:only-of-type {\n",
       "        vertical-align: middle;\n",
       "    }\n",
       "\n",
       "    .dataframe tbody tr th {\n",
       "        vertical-align: top;\n",
       "    }\n",
       "\n",
       "    .dataframe thead th {\n",
       "        text-align: right;\n",
       "    }\n",
       "</style>\n",
       "<table border=\"1\" class=\"dataframe\">\n",
       "  <thead>\n",
       "    <tr style=\"text-align: right;\">\n",
       "      <th></th>\n",
       "      <th>Unnamed: 0</th>\n",
       "      <th>baseMean</th>\n",
       "      <th>log2FoldChange</th>\n",
       "      <th>lfcSE</th>\n",
       "      <th>stat</th>\n",
       "      <th>pvalue</th>\n",
       "      <th>padj</th>\n",
       "    </tr>\n",
       "  </thead>\n",
       "  <tbody>\n",
       "    <tr>\n",
       "      <th>0</th>\n",
       "      <td>11287</td>\n",
       "      <td>9.888006</td>\n",
       "      <td>-4.856279</td>\n",
       "      <td>5.264498</td>\n",
       "      <td>0.898130</td>\n",
       "      <td>0.825879</td>\n",
       "      <td>NaN</td>\n",
       "    </tr>\n",
       "    <tr>\n",
       "      <th>1</th>\n",
       "      <td>11298</td>\n",
       "      <td>0.000000</td>\n",
       "      <td>NaN</td>\n",
       "      <td>NaN</td>\n",
       "      <td>NaN</td>\n",
       "      <td>NaN</td>\n",
       "      <td>NaN</td>\n",
       "    </tr>\n",
       "    <tr>\n",
       "      <th>2</th>\n",
       "      <td>11302</td>\n",
       "      <td>715.026062</td>\n",
       "      <td>5.951628</td>\n",
       "      <td>1.218265</td>\n",
       "      <td>19.365250</td>\n",
       "      <td>0.000230</td>\n",
       "      <td>0.010681</td>\n",
       "    </tr>\n",
       "    <tr>\n",
       "      <th>3</th>\n",
       "      <td>11303</td>\n",
       "      <td>2692.375302</td>\n",
       "      <td>-0.187183</td>\n",
       "      <td>0.634758</td>\n",
       "      <td>5.522448</td>\n",
       "      <td>0.137302</td>\n",
       "      <td>0.649105</td>\n",
       "    </tr>\n",
       "    <tr>\n",
       "      <th>4</th>\n",
       "      <td>11304</td>\n",
       "      <td>0.000000</td>\n",
       "      <td>NaN</td>\n",
       "      <td>NaN</td>\n",
       "      <td>NaN</td>\n",
       "      <td>NaN</td>\n",
       "      <td>NaN</td>\n",
       "    </tr>\n",
       "  </tbody>\n",
       "</table>\n",
       "</div>"
      ],
      "text/plain": [
       "   Unnamed: 0     baseMean  log2FoldChange     lfcSE       stat    pvalue  \\\n",
       "0       11287     9.888006       -4.856279  5.264498   0.898130  0.825879   \n",
       "1       11298     0.000000             NaN       NaN        NaN       NaN   \n",
       "2       11302   715.026062        5.951628  1.218265  19.365250  0.000230   \n",
       "3       11303  2692.375302       -0.187183  0.634758   5.522448  0.137302   \n",
       "4       11304     0.000000             NaN       NaN        NaN       NaN   \n",
       "\n",
       "       padj  \n",
       "0       NaN  \n",
       "1       NaN  \n",
       "2  0.010681  \n",
       "3  0.649105  \n",
       "4       NaN  "
      ]
     },
     "execution_count": 7,
     "metadata": {},
     "output_type": "execute_result"
    }
   ],
   "source": [
    "df_ec.head()"
   ]
  },
  {
   "cell_type": "markdown",
   "metadata": {},
   "source": [
    "NB: NaN values arise when the LRT statistic cannot be calculated (if all values are 0), or when the gene is filtered due to low basemean and high variance (padj only)"
   ]
  },
  {
   "cell_type": "code",
   "execution_count": 8,
   "metadata": {},
   "outputs": [
    {
     "data": {
      "text/plain": [
       "362"
      ]
     },
     "execution_count": 8,
     "metadata": {},
     "output_type": "execute_result"
    }
   ],
   "source": [
    "# view the number of differentially expressed genes:\n",
    "df_ec[df_ec.padj <= 0.05].shape[0]"
   ]
  },
  {
   "cell_type": "markdown",
   "metadata": {},
   "source": [
    "**Load the gene name table**\n",
    "\n",
    "This table allows conversion between isoform, gene, uniprot gene id and ncbi gene name."
   ]
  },
  {
   "cell_type": "code",
   "execution_count": 9,
   "metadata": {},
   "outputs": [
    {
     "data": {
      "text/html": [
       "<div>\n",
       "<style scoped>\n",
       "    .dataframe tbody tr th:only-of-type {\n",
       "        vertical-align: middle;\n",
       "    }\n",
       "\n",
       "    .dataframe tbody tr th {\n",
       "        vertical-align: top;\n",
       "    }\n",
       "\n",
       "    .dataframe thead th {\n",
       "        text-align: right;\n",
       "    }\n",
       "</style>\n",
       "<table border=\"1\" class=\"dataframe\">\n",
       "  <thead>\n",
       "    <tr style=\"text-align: right;\">\n",
       "      <th></th>\n",
       "      <th>refseq_mrna</th>\n",
       "      <th>entrezgene</th>\n",
       "      <th>uniprot_gn</th>\n",
       "      <th>external_gene_name</th>\n",
       "    </tr>\n",
       "  </thead>\n",
       "  <tbody>\n",
       "    <tr>\n",
       "      <th>1</th>\n",
       "      <td>NM_001001130</td>\n",
       "      <td>22746</td>\n",
       "      <td>Q7TMC9</td>\n",
       "      <td>Zfp85</td>\n",
       "    </tr>\n",
       "    <tr>\n",
       "      <th>2</th>\n",
       "      <td>NM_001001144</td>\n",
       "      <td>235623</td>\n",
       "      <td>Q6GQT6</td>\n",
       "      <td>Scap</td>\n",
       "    </tr>\n",
       "    <tr>\n",
       "      <th>3</th>\n",
       "      <td>NM_001001152</td>\n",
       "      <td>238690</td>\n",
       "      <td>Q7M6X6</td>\n",
       "      <td>Zfp458</td>\n",
       "    </tr>\n",
       "    <tr>\n",
       "      <th>4</th>\n",
       "      <td>NM_001001152</td>\n",
       "      <td>238690</td>\n",
       "      <td>Q6P5C7</td>\n",
       "      <td>Zfp458</td>\n",
       "    </tr>\n",
       "    <tr>\n",
       "      <th>5</th>\n",
       "      <td>NM_001001160</td>\n",
       "      <td>330369</td>\n",
       "      <td>Q6NS60</td>\n",
       "      <td>Fbxo41</td>\n",
       "    </tr>\n",
       "  </tbody>\n",
       "</table>\n",
       "</div>"
      ],
      "text/plain": [
       "    refseq_mrna  entrezgene uniprot_gn external_gene_name\n",
       "1  NM_001001130       22746     Q7TMC9              Zfp85\n",
       "2  NM_001001144      235623     Q6GQT6               Scap\n",
       "3  NM_001001152      238690     Q7M6X6             Zfp458\n",
       "4  NM_001001152      238690     Q6P5C7             Zfp458\n",
       "5  NM_001001160      330369     Q6NS60             Fbxo41"
      ]
     },
     "execution_count": 9,
     "metadata": {},
     "output_type": "execute_result"
    }
   ],
   "source": [
    "df_names = pd.read_csv(\"../scripts/transcript-name-conversion.csv\")\n",
    "\n",
    "# convert entrez geneid to integer\n",
    "df_names['entrezgene'] = df_names.entrezgene.apply(lambda x: 0 if pd.isnull(x) else int(x))\n",
    "df_names.head()"
   ]
  },
  {
   "cell_type": "markdown",
   "metadata": {},
   "source": [
    "**Load the expression data**"
   ]
  },
  {
   "cell_type": "code",
   "execution_count": 10,
   "metadata": {},
   "outputs": [],
   "source": [
    "df_ec_exp = pd.read_csv(\"../DESeq2_R-project/counts-ec-vst.csv\", \n",
    "                        delim_whitespace=True\n",
    "                       )"
   ]
  },
  {
   "cell_type": "code",
   "execution_count": 11,
   "metadata": {},
   "outputs": [],
   "source": [
    "df_ec_merge = pd.merge(left=df_ec, right=df_names.iloc[:, 1:], \n",
    "                        left_on=\"Unnamed: 0\", right_on=\"entrezgene\",\n",
    "                        how=\"left\")"
   ]
  },
  {
   "cell_type": "code",
   "execution_count": 12,
   "metadata": {},
   "outputs": [],
   "source": [
    "df_ec_merge[df_ec_merge.padj <= 0.05].to_csv(\"EC_LRT_DEGs.csv\")"
   ]
  },
  {
   "cell_type": "code",
   "execution_count": 13,
   "metadata": {},
   "outputs": [
    {
     "name": "stdout",
     "output_type": "stream",
     "text": [
      "362 differentially expressed genes:\n",
      "Zfp46,Map4k2,Synm,Fxyd6,Efr3b,Phospho2,Dis3l2,Flad1,Tgm2,Hic2,Gbp3,Med23,Lrrc41,Adcy4,Gorasp2,Bhlhe41,Prr5l,Serpinb9,Snx27,Vwa1,Nsun4,1500015O10Rik,Ambra1,Ddx20,H2-K1,Gcfc2,Hmgcs2,Trmt5,Rgs2,Clu,Med14,Mmp3,Qrsl1,Wdr20,Ifitm3,Jam3,Slfn2,Abcg2,Ubfd1,Uba6,Ptgs2,Enpp2,Ivd,Pgm2l1,Vps9d1,Dll4,Atp1b1,2510009E07Rik,Hectd3,2610301B20Rik,Gja1,Rpap1,Ifi202b,Sdc4,Tsc22d1,Itpk1,Acat2,Lifr,Ppp1cb,Pabpc1,Ezh2,Tmem132a,Zfp518a,Kctd12,Strn3,Zfp809,Pomgnt1,Ptprb,Ppp1r13b,Irf7,Arhgef10,Fth1,Tmem120b,Als2cl,Ppp1r2,Prom1,Pgap3,Dcun1d3,Glmn,Tmem204,Fbxl8,Zmynd8,Zfp661,Aph1b,Ahsa2,Qser1,Prkcz,Mthfsd,Shisa5,2700097O09Rik,Txndc11,Acp5,Clic4,Gadd45b,Ecm1,Zfp948,Ints13,Sgtb,Kansl3,Igfbp2,2810006K23Rik,Tmem101,Orm2,Arhgap31,Cdc25a,Rnf24,Klhl11,Mpg,Zfp119a,Tti1,Fbxo46,Mfsd8,Rsad2,Cggbp1,Esam,Stc1,Pdk4,Top1mt,Tm9sf4,Amn1,Fbxo9,Pdxdc1,Nedd9,Ifi44,Ankle2,Ubc,Eno1,Nqo2,Prnp,Elmod2,Gdf15,Usp28,Gtpbp2,Ero1l,Plat,Car4,Tjp2,Marcksl1,Plk2,Capzb,Nin,Nif3l1,Cenpc1,Hnrnpf,Arrdc3,Hmox2,Tcf7l1,Ccl5,Ch25h,Cpe,Fgfr1,Lgals3bp,F5,Zfp281,Mafg,Bbs12,Slc25a33,Got1,Smap2,Syngr1,Ndel1,Cct8,Cdc42ep3,Mfn2,Adipor1,Zfp839,Smc3,Eno1b,Trdmt1,Irgq,Lenep,Snap29,Slc39a10,Pdlim5,Asb1,Acrbp,F2rl2,Vps72,Tpi1,Pdzd8,Mfsd14a,Map3k14,Ebpl,Zdhhc24,Tvp23b,Rtel1,Kcnj2,Smug1,Gpcpd1,Mybbp1a,Cd81,Slc20a1,Npr2,Ankrd13c,Enc1,Efnb2,Farp1,Scaf8,Hspa1a,Hspa1b,Chic1,Car12,Abcd4,Ipmk,Ifit3,Abcb1a,Sumo3,Cry1,Fam102b,Herc6,Ttr,Mrps18c,Lipa,Lhpp,Pex13,Crebl2,Rybp,Ahcyl2,Smad2,Cyr61,Cd53,Ranbp9,Pcdhb7,Aatk,Dhodh,Hltf,Tm4sf1,Sar1b,Pacs1,Pdia6,Fem1b,Ccdc174,Tmem237,Slfn5,Slc30a1,Rhpn2,Sparc,Sgk1,Ctsz,Mul1,Poc1b,Xpnpep1,Alyref2,Npc1,Fam168b,Ablim1,H3f3b,Hipk3,Lmf2,Zfp607b,Klhdc3,Sparcl1,Isg15,Akap1,Zfand2a,Taz,Ptpn14,Mbnl1,Sh3rf1,Cd93,Stxbp3,Rhog,Acvrl1,Zscan12,Ybx3,Mafk,Myc,Sgms1,Bmp5,Sde2,Csrp2,Dcaf5,Ccdc59,Ptprs,Il1rn,Mepce,Swap70,Slc1a1,Napepld,4930579G24Rik,Hnrnpab,Ltn1,Slc25a25,Zfp316,Arf6,Gan,Kdelc2,Gripap1,Ogfrl1,Txndc5,Fbxw8,Ttc9,Lrg1,Zfp963,Akna,Mindy2,Sema6d,Prrg1,Phldb1,Gipc1,Mrpl46,Cyp2d22,Tnfrsf1b,Drosha,Prelid1,Vgf,Lgals3,Snx9,Mthfd1,Sh3tc1,Zfp975,Scarb2,2810004N23Rik,Acly,Itgb3,Tgfbr1,Pcdhgb1,Zfp266,Gbp2,Apold1,Creb3l2,Tmed2,Eda2r,Eif2ak4,Tspan14,Ccnjl,Ly6e,Vps8,Actr1a,Ocln,Gimap6,Timmdc1,Phyhd1,Rtp3,Gjc1,Selenop,1110017D15Rik,Lamc1,Gm13889,9130011E15Rik,Sh3bgrl3,Sp1,Tpra1,Yy1,Ufsp1,Zfp169,Eif5a2,Slc38a2,Prkab2,Mpzl1,Scd2,Myzap,P2rx7,Bms1,Sptbn1,Sirt2,Cds2,Plau,Lpl,Gal,Cpt2,Bst2\n"
     ]
    }
   ],
   "source": [
    "degs_gene_names = df_ec_merge[df_ec_merge.padj <= 0.05\n",
    "                             ].sort_values(\"padj\"\n",
    "                             ).external_gene_name.unique()\n",
    "print(len(degs_gene_names), \"differentially expressed genes:\")\n",
    "print(\",\".join(degs_gene_names))"
   ]
  },
  {
   "cell_type": "code",
   "execution_count": 14,
   "metadata": {},
   "outputs": [
    {
     "name": "stdout",
     "output_type": "stream",
     "text": [
      "362 differentially expressed genes (entrez id):\n",
      "22704,26412,233335,59095,668212,73373,208718,319945,21817,58180,55932,70208,230654,104110,70231,79362,72446,20723,76742,246228,72181,78896,228361,53975,14972,330361,15360,76357,19735,12759,26896,17392,76563,69641,66141,83964,20556,26357,28018,231380,19225,18606,56357,70974,72325,54485,11931,72190,76608,67157,14609,68925,26388,20971,21807,217837,110460,16880,19046,18458,14056,98170,72672,239217,94186,235047,68273,19263,21981,54123,234094,14319,330189,235633,66849,19126,320655,233805,170823,407831,50788,228880,72180,208117,268390,99003,18762,234814,66940,72658,106200,11433,29876,17873,13601,381066,71177,218544,226976,16008,72650,76547,18406,12549,12530,51902,217194,268395,104349,75425,243867,72175,58185,106143,69524,20855,27273,72960,99237,232566,71538,94184,18003,99899,71782,22190,13806,18105,19122,244548,23886,235323,56055,50527,18791,12351,21873,17357,20620,12345,18080,65102,12617,98758,105171,15369,21415,20304,12642,12876,14182,19039,14067,226442,17134,241950,70556,14718,69780,20972,83431,12469,260409,170731,72674,72805,13006,433182,13434,210146,57275,67474,227059,56376,65247,54137,14064,21427,21991,107368,15247,53859,68177,70605,67510,269400,16518,71726,74182,18432,12520,20515,230103,433667,13803,13642,223254,106583,193740,15511,12212,76459,19300,69718,15959,18671,20610,12952,329739,67138,22139,68735,16889,76429,72129,232430,56353,74340,17126,16007,12508,56705,93878,11302,56749,20585,17112,66397,107975,71853,14155,232236,381259,327978,22782,52428,20692,20393,64138,68350,382406,170750,56009,18145,214469,226251,15081,15259,105847,112415,71765,13602,100038882,11640,100494,66826,19250,56758,59009,17064,20912,56212,11482,22758,56449,17135,17869,208449,12160,208768,13008,320808,52713,19280,16181,231803,20947,20510,242864,75939,15384,78913,227731,54201,11845,209239,68304,54645,70155,105245,231672,69480,76905,620419,100182,235461,214968,546336,102693,67903,67308,56448,21938,14000,66494,381677,16854,66616,108156,231147,434179,12492,66523,104112,16416,21812,93699,77519,14469,381823,208647,56334,245527,27103,52588,380694,17069,209018,54130,18260,231931,76916,227696,235636,14615,20363,73721,226519,620695,71617,73723,20683,24100,22632,70240,67911,208691,67760,108097,68481,20250,102371,18439,213895,20742,64383,110911,18792,16956,14419,12896,69550\n"
     ]
    }
   ],
   "source": [
    "degs_gene_names = df_ec_merge[df_ec_merge.padj <= 0.05\n",
    "                             ].sort_values(\"padj\").entrezgene.unique()\n",
    "print(len(degs_gene_names), \"differentially expressed genes (entrez id):\")\n",
    "print(\",\".join([str(i) for i in degs_gene_names]))"
   ]
  },
  {
   "cell_type": "code",
   "execution_count": 15,
   "metadata": {},
   "outputs": [],
   "source": [
    "s_name_conversion = df_ec_merge.set_index(\"entrezgene\").external_gene_name.drop_duplicates()"
   ]
  },
  {
   "cell_type": "code",
   "execution_count": 16,
   "metadata": {},
   "outputs": [],
   "source": [
    "degs_ec = df_ec[df_ec.padj <= 0.05][\"Unnamed: 0\"].values"
   ]
  },
  {
   "cell_type": "code",
   "execution_count": 17,
   "metadata": {},
   "outputs": [],
   "source": [
    "df_ec_degs_exp = df_ec_exp[df_ec_exp.index.isin(degs_ec)]"
   ]
  },
  {
   "cell_type": "code",
   "execution_count": 18,
   "metadata": {},
   "outputs": [
    {
     "data": {
      "image/png": "[encoded data removed]",
      "text/plain": [
       "<Figure size 1008x1080 with 4 Axes>"
      ]
     },
     "metadata": {},
     "output_type": "display_data"
    }
   ],
   "source": [
    "sns.clustermap(method='complete', metric='euclidean',\n",
    "                data=df_ec_degs_exp, z_score=0, \n",
    "               figsize=(14,15)\n",
    "              )\n",
    "plt.show()"
   ]
  },
  {
   "cell_type": "markdown",
   "metadata": {},
   "source": [
    "# _post hoc_ analysis of DEGs\n",
    "This is to identify, from among the DEGs already found above with the LRT model, those contrasts for which there are significant differences between conditions"
   ]
  },
  {
   "cell_type": "markdown",
   "metadata": {},
   "source": [
    "## load _post hoc_ data"
   ]
  },
  {
   "cell_type": "code",
   "execution_count": 19,
   "metadata": {},
   "outputs": [],
   "source": [
    "# suffix indicates the contrast analysed\n",
    "fp_pw = \"../DESeq2_R-project/res_ec_wald_PW-results.csv\"\n",
    "fp_pk1 = \"../DESeq2_R-project/res_ec_wald_PK1-results.csv\"\n",
    "fp_pk2 = \"../DESeq2_R-project/res_ec_wald_PK2-results.csv\"\n",
    "fp_k1k2 = \"../DESeq2_R-project/res_ec_wald_K1K2-results.csv\"\n",
    "fp_wk1 = \"../DESeq2_R-project/res_ec_wald_WK1-results.csv\"\n",
    "fp_wk2 = \"../DESeq2_R-project/res_ec_wald_WK2-results.csv\""
   ]
  },
  {
   "cell_type": "code",
   "execution_count": 20,
   "metadata": {},
   "outputs": [],
   "source": [
    "# set header names\n",
    "names_base = [\"entrezgene\", \"baseMean\", \"log2FoldChange\", \n",
    "              \"lfcSE\", \"stat\", \"pvalue\", \"padj\"]\n",
    "conditions_base = [\"pw\", \"pk1\", \"pk2\", \"k1k2\", \"wk1\", \"wk2\"]\n",
    "names_pw = [ \"{}_pw\".format(x) for x in names_base ]\n",
    "names_pk1 = [ \"{}_pk1\".format(x) for x in names_base ]\n",
    "names_pk2 = [ \"{}_pk2\".format(x) for x in names_base ]\n",
    "names_k1k2 = [ \"{}_k1k2\".format(x) for x in names_base ]\n",
    "names_wk1 = [ \"{}_wk1\".format(x) for x in names_base ]\n",
    "names_wk2 = [ \"{}_wk2\".format(x) for x in names_base ]"
   ]
  },
  {
   "cell_type": "code",
   "execution_count": 21,
   "metadata": {},
   "outputs": [],
   "source": [
    "# create dataframes\n",
    "df_pw = pd.read_csv(fp_pw, header=0, names=names_pw).set_index(\"entrezgene_pw\")\n",
    "df_pk1 = pd.read_csv(fp_pk1, header=0, names=names_pk1).set_index(\"entrezgene_pk1\")\n",
    "df_pk2 = pd.read_csv(fp_pk2, header=0, names=names_pk2).set_index(\"entrezgene_pk2\")\n",
    "df_k1k2 = pd.read_csv(fp_k1k2, header=0, names=names_k1k2).set_index(\"entrezgene_k1k2\")\n",
    "df_wk1 = pd.read_csv(fp_wk1, header=0, names=names_wk1).set_index(\"entrezgene_wk1\")\n",
    "df_wk2 = pd.read_csv(fp_wk2, header=0, names=names_wk2).set_index(\"entrezgene_wk2\")\n"
   ]
  },
  {
   "cell_type": "code",
   "execution_count": 22,
   "metadata": {},
   "outputs": [],
   "source": [
    "# merge dataframes together:\n",
    "df_posthoc = pd.concat([df_pw, df_pk1, df_pk2, df_k1k2, df_wk1, df_wk2], axis=1)"
   ]
  },
  {
   "cell_type": "code",
   "execution_count": 23,
   "metadata": {},
   "outputs": [
    {
     "data": {
      "text/html": [
       "<div>\n",
       "<style scoped>\n",
       "    .dataframe tbody tr th:only-of-type {\n",
       "        vertical-align: middle;\n",
       "    }\n",
       "\n",
       "    .dataframe tbody tr th {\n",
       "        vertical-align: top;\n",
       "    }\n",
       "\n",
       "    .dataframe thead th {\n",
       "        text-align: right;\n",
       "    }\n",
       "</style>\n",
       "<table border=\"1\" class=\"dataframe\">\n",
       "  <thead>\n",
       "    <tr style=\"text-align: right;\">\n",
       "      <th></th>\n",
       "      <th>baseMean_pw</th>\n",
       "      <th>log2FoldChange_pw</th>\n",
       "      <th>lfcSE_pw</th>\n",
       "      <th>stat_pw</th>\n",
       "      <th>pvalue_pw</th>\n",
       "      <th>padj_pw</th>\n",
       "      <th>baseMean_pk1</th>\n",
       "      <th>log2FoldChange_pk1</th>\n",
       "      <th>lfcSE_pk1</th>\n",
       "      <th>stat_pk1</th>\n",
       "      <th>...</th>\n",
       "      <th>lfcSE_wk1</th>\n",
       "      <th>stat_wk1</th>\n",
       "      <th>pvalue_wk1</th>\n",
       "      <th>padj_wk1</th>\n",
       "      <th>baseMean_wk2</th>\n",
       "      <th>log2FoldChange_wk2</th>\n",
       "      <th>lfcSE_wk2</th>\n",
       "      <th>stat_wk2</th>\n",
       "      <th>pvalue_wk2</th>\n",
       "      <th>padj_wk2</th>\n",
       "    </tr>\n",
       "  </thead>\n",
       "  <tbody>\n",
       "    <tr>\n",
       "      <th>11287</th>\n",
       "      <td>9.888006</td>\n",
       "      <td>-3.204235</td>\n",
       "      <td>4.441925</td>\n",
       "      <td>-0.721362</td>\n",
       "      <td>4.706869e-01</td>\n",
       "      <td>0.863245</td>\n",
       "      <td>9.888006</td>\n",
       "      <td>2.564497</td>\n",
       "      <td>4.003639</td>\n",
       "      <td>0.640541</td>\n",
       "      <td>...</td>\n",
       "      <td>4.479385</td>\n",
       "      <td>1.287840</td>\n",
       "      <td>1.978016e-01</td>\n",
       "      <td>6.631151e-01</td>\n",
       "      <td>9.888006</td>\n",
       "      <td>4.856279</td>\n",
       "      <td>5.264498</td>\n",
       "      <td>0.922458</td>\n",
       "      <td>0.356290</td>\n",
       "      <td>0.860075</td>\n",
       "    </tr>\n",
       "    <tr>\n",
       "      <th>11298</th>\n",
       "      <td>0.000000</td>\n",
       "      <td>NaN</td>\n",
       "      <td>NaN</td>\n",
       "      <td>NaN</td>\n",
       "      <td>NaN</td>\n",
       "      <td>NaN</td>\n",
       "      <td>0.000000</td>\n",
       "      <td>NaN</td>\n",
       "      <td>NaN</td>\n",
       "      <td>NaN</td>\n",
       "      <td>...</td>\n",
       "      <td>NaN</td>\n",
       "      <td>NaN</td>\n",
       "      <td>NaN</td>\n",
       "      <td>NaN</td>\n",
       "      <td>0.000000</td>\n",
       "      <td>NaN</td>\n",
       "      <td>NaN</td>\n",
       "      <td>NaN</td>\n",
       "      <td>NaN</td>\n",
       "      <td>NaN</td>\n",
       "    </tr>\n",
       "    <tr>\n",
       "      <th>11302</th>\n",
       "      <td>715.026062</td>\n",
       "      <td>5.355455</td>\n",
       "      <td>1.056023</td>\n",
       "      <td>5.071343</td>\n",
       "      <td>3.950190e-07</td>\n",
       "      <td>0.000021</td>\n",
       "      <td>715.026062</td>\n",
       "      <td>-0.851665</td>\n",
       "      <td>0.885434</td>\n",
       "      <td>-0.961862</td>\n",
       "      <td>...</td>\n",
       "      <td>1.055563</td>\n",
       "      <td>-5.880390</td>\n",
       "      <td>4.093014e-09</td>\n",
       "      <td>6.102468e-07</td>\n",
       "      <td>715.026062</td>\n",
       "      <td>-5.951628</td>\n",
       "      <td>1.218265</td>\n",
       "      <td>-4.885332</td>\n",
       "      <td>0.000001</td>\n",
       "      <td>0.000051</td>\n",
       "    </tr>\n",
       "    <tr>\n",
       "      <th>11303</th>\n",
       "      <td>2692.375302</td>\n",
       "      <td>0.138961</td>\n",
       "      <td>0.548239</td>\n",
       "      <td>0.253468</td>\n",
       "      <td>7.999063e-01</td>\n",
       "      <td>0.977662</td>\n",
       "      <td>2692.375302</td>\n",
       "      <td>1.082769</td>\n",
       "      <td>0.473268</td>\n",
       "      <td>2.287854</td>\n",
       "      <td>...</td>\n",
       "      <td>0.548319</td>\n",
       "      <td>1.721275</td>\n",
       "      <td>8.520101e-02</td>\n",
       "      <td>4.259750e-01</td>\n",
       "      <td>2692.375302</td>\n",
       "      <td>0.187183</td>\n",
       "      <td>0.634758</td>\n",
       "      <td>0.294889</td>\n",
       "      <td>0.768078</td>\n",
       "      <td>0.999326</td>\n",
       "    </tr>\n",
       "    <tr>\n",
       "      <th>11304</th>\n",
       "      <td>0.000000</td>\n",
       "      <td>NaN</td>\n",
       "      <td>NaN</td>\n",
       "      <td>NaN</td>\n",
       "      <td>NaN</td>\n",
       "      <td>NaN</td>\n",
       "      <td>0.000000</td>\n",
       "      <td>NaN</td>\n",
       "      <td>NaN</td>\n",
       "      <td>NaN</td>\n",
       "      <td>...</td>\n",
       "      <td>NaN</td>\n",
       "      <td>NaN</td>\n",
       "      <td>NaN</td>\n",
       "      <td>NaN</td>\n",
       "      <td>0.000000</td>\n",
       "      <td>NaN</td>\n",
       "      <td>NaN</td>\n",
       "      <td>NaN</td>\n",
       "      <td>NaN</td>\n",
       "      <td>NaN</td>\n",
       "    </tr>\n",
       "  </tbody>\n",
       "</table>\n",
       "<p>5 rows × 36 columns</p>\n",
       "</div>"
      ],
      "text/plain": [
       "       baseMean_pw  log2FoldChange_pw  lfcSE_pw   stat_pw     pvalue_pw  \\\n",
       "11287     9.888006          -3.204235  4.441925 -0.721362  4.706869e-01   \n",
       "11298     0.000000                NaN       NaN       NaN           NaN   \n",
       "11302   715.026062           5.355455  1.056023  5.071343  3.950190e-07   \n",
       "11303  2692.375302           0.138961  0.548239  0.253468  7.999063e-01   \n",
       "11304     0.000000                NaN       NaN       NaN           NaN   \n",
       "\n",
       "        padj_pw  baseMean_pk1  log2FoldChange_pk1  lfcSE_pk1  stat_pk1  ...  \\\n",
       "11287  0.863245      9.888006            2.564497   4.003639  0.640541  ...   \n",
       "11298       NaN      0.000000                 NaN        NaN       NaN  ...   \n",
       "11302  0.000021    715.026062           -0.851665   0.885434 -0.961862  ...   \n",
       "11303  0.977662   2692.375302            1.082769   0.473268  2.287854  ...   \n",
       "11304       NaN      0.000000                 NaN        NaN       NaN  ...   \n",
       "\n",
       "       lfcSE_wk1  stat_wk1    pvalue_wk1      padj_wk1  baseMean_wk2  \\\n",
       "11287   4.479385  1.287840  1.978016e-01  6.631151e-01      9.888006   \n",
       "11298        NaN       NaN           NaN           NaN      0.000000   \n",
       "11302   1.055563 -5.880390  4.093014e-09  6.102468e-07    715.026062   \n",
       "11303   0.548319  1.721275  8.520101e-02  4.259750e-01   2692.375302   \n",
       "11304        NaN       NaN           NaN           NaN      0.000000   \n",
       "\n",
       "       log2FoldChange_wk2  lfcSE_wk2  stat_wk2  pvalue_wk2  padj_wk2  \n",
       "11287            4.856279   5.264498  0.922458    0.356290  0.860075  \n",
       "11298                 NaN        NaN       NaN         NaN       NaN  \n",
       "11302           -5.951628   1.218265 -4.885332    0.000001  0.000051  \n",
       "11303            0.187183   0.634758  0.294889    0.768078  0.999326  \n",
       "11304                 NaN        NaN       NaN         NaN       NaN  \n",
       "\n",
       "[5 rows x 36 columns]"
      ]
     },
     "execution_count": 23,
     "metadata": {},
     "output_type": "execute_result"
    }
   ],
   "source": [
    "df_posthoc.head()"
   ]
  },
  {
   "cell_type": "markdown",
   "metadata": {},
   "source": [
    "## Identify focal geneset\n",
    "### create filters to identify each of the following subsets of genes:\n",
    "* the likelihood ratio test was significant (*p* ≤ 0.05)\n",
    "* WT and PBS were significantly differentially expressed (*p* ≤ 0.05)\n",
    "* WT was significantly different from both KO1 and KO2 (*p* ≤ 0.05 in each contrast)\n",
    "* KO1 and KO2 were concordantly up- or down- regulated with regard to WT\n"
   ]
  },
  {
   "cell_type": "code",
   "execution_count": 24,
   "metadata": {},
   "outputs": [],
   "source": [
    "# significant in LRT test\n",
    "mask_degs = df_posthoc.index.isin(degs_ec)"
   ]
  },
  {
   "cell_type": "code",
   "execution_count": 25,
   "metadata": {},
   "outputs": [],
   "source": [
    "# remove non sig for PBS vs WT P>0.05\n",
    "mask_pw_sig = (df_posthoc.pvalue_pw <= 0.05)"
   ]
  },
  {
   "cell_type": "code",
   "execution_count": 26,
   "metadata": {},
   "outputs": [],
   "source": [
    "# change PBS/WT to WT/PBS, for clearer interpretation of direction of change\n",
    "df_posthoc.loc[:, \"log2FoldChange_wp\"] = df_posthoc.loc[:, \"log2FoldChange_pw\"] * -1\n",
    "df_posthoc.loc[:, \"stat_wp\"] = df_posthoc.loc[:, \"stat_pw\"] * -1"
   ]
  },
  {
   "cell_type": "code",
   "execution_count": 27,
   "metadata": {},
   "outputs": [],
   "source": [
    "# Remove non significant in wt vs k1 and/or k2\n",
    "mask_wk_sig = (df_posthoc.pvalue_wk1 <= 0.05) & (df_posthoc.pvalue_wk2 <= 0.05)"
   ]
  },
  {
   "cell_type": "code",
   "execution_count": 28,
   "metadata": {},
   "outputs": [],
   "source": [
    "# tag significant in k1 vs k2\n",
    "mask_k1k2_sig = (df_posthoc.pvalue_k1k2 <= 0.05)"
   ]
  },
  {
   "cell_type": "code",
   "execution_count": 29,
   "metadata": {},
   "outputs": [],
   "source": [
    "# remove the ones changing significantly between WT/K1 and WT/K2 but in different senses\n",
    "mask_concordant = ((df_posthoc.log2FoldChange_wk1 / df_posthoc.log2FoldChange_wk2) > 0) "
   ]
  },
  {
   "cell_type": "markdown",
   "metadata": {},
   "source": [
    "### combine filters to identify focal geneset"
   ]
  },
  {
   "cell_type": "code",
   "execution_count": 30,
   "metadata": {},
   "outputs": [],
   "source": [
    "df_final = df_posthoc[mask_degs &\n",
    "                      mask_pw_sig & \n",
    "                      mask_wk_sig &\n",
    "                      mask_concordant\n",
    "                     ]"
   ]
  },
  {
   "cell_type": "code",
   "execution_count": 31,
   "metadata": {},
   "outputs": [
    {
     "data": {
      "text/plain": [
       "(119, 38)"
      ]
     },
     "execution_count": 31,
     "metadata": {},
     "output_type": "execute_result"
    }
   ],
   "source": [
    "df_final.shape"
   ]
  },
  {
   "cell_type": "markdown",
   "metadata": {},
   "source": [
    "### Print list of 119 focal genes"
   ]
  },
  {
   "cell_type": "code",
   "execution_count": 32,
   "metadata": {},
   "outputs": [],
   "source": [
    "# get gene names:\n",
    "final_list = pd.merge(left=df_final.reset_index(), \n",
    "                     right=df_names.drop_duplicates(subset=['entrezgene', 'external_gene_name']),\n",
    "                     left_on='index', right_on='entrezgene',\n",
    "                     how='inner'\n",
    "                    )['external_gene_name'].values"
   ]
  },
  {
   "cell_type": "code",
   "execution_count": 33,
   "metadata": {},
   "outputs": [
    {
     "name": "stdout",
     "output_type": "stream",
     "text": [
      "Aatk,Acvrl1,Scarb2,Cdc25a,Arhgap31,Smc3,Csrp2,Trdmt1,Efnb2,Drosha,Ezh2,F2rl2,Gja1,Itgb3,Lifr,Mafg,Nedd9,Nin,Ocln,P2rx7,Prom1,Ptpn14,Abcd4,Rgs2,Slc20a1,Sumo3,Sp1,Tcf7l1,Ppp1r13b,Yy1,Zfp46,Map4k2,Med14,Eif2ak4,Ubfd1,Fbxl8,Rnf24,Ccdc59,Ddx20,Alyref2,Rhog,Cyp2d22,Ybx3,Sh3rf1,Fxyd6,Nif3l1,Asb1,Taz,Shisa5,Kdelc2,Wdr20,Ipmk,Med23,Gorasp2,Slc25a33,Zdhhc24,Ints13,Fbxo9,Smug1,Pex13,2510009E07Rik,Prr5l,2700097O09Rik,Zfp518a,Top1mt,1110017D15Rik,Gpcpd1,Trmt5,Tmem101,Qrsl1,Hectd3,Snx27,Timmdc1,Pdxdc1,Qser1,Myzap,Phldb1,Adcy4,Zfp119a,Lmf2,Txndc11,Pacs1,Prkab2,Mfn2,Xpnpep1,Aph1b,Dis3l2,Gan,Sema6d,Itpk1,Farp1,Ablim1,Zfp281,Phyhd1,Ambra1,Zmynd8,Npr2,Lrrc41,Sh3tc1,Uba6,Fbxw8,Amn1,Dcun1d3,Mthfsd,Usp28,Mindy2,Bbs12,Fbxo46,Eda2r,Ahsa2,Mpg,Rtel1,Pgap3,Dcaf5,Tmem120b,Poc1b,Zfp975,Zfp963,Efr3b\n"
     ]
    }
   ],
   "source": [
    "print(\",\".join(final_list))"
   ]
  },
  {
   "cell_type": "markdown",
   "metadata": {},
   "source": [
    "## view correlation in expression differences between conditions"
   ]
  },
  {
   "cell_type": "code",
   "execution_count": 34,
   "metadata": {},
   "outputs": [
    {
     "data": {
      "image/png": "[encoded data removed]",
      "text/plain": [
       "<Figure size 432x288 with 1 Axes>"
      ]
     },
     "metadata": {},
     "output_type": "display_data"
    }
   ],
   "source": [
    "df_final.plot.scatter(x='log2FoldChange_wp',\n",
    "                      y='log2FoldChange_wk1'\n",
    "                     )\n",
    "plt.title(\"Correlation between wildtype:knockout 1 vs wildtype:PBS\")\n",
    "plt.show()"
   ]
  },
  {
   "cell_type": "code",
   "execution_count": 35,
   "metadata": {},
   "outputs": [
    {
     "data": {
      "image/png": "[encoded data removed]",
      "text/plain": [
       "<Figure size 432x288 with 1 Axes>"
      ]
     },
     "metadata": {},
     "output_type": "display_data"
    }
   ],
   "source": [
    "df_final.plot.scatter(x='log2FoldChange_pk1',\n",
    "                      y='log2FoldChange_wk1'\n",
    "                     )\n",
    "plt.title(\"Correlation between wildtype:knockout 1 vs PBS:knockout 1\")\n",
    "plt.show()"
   ]
  }
 ],
 "metadata": {
  "kernelspec": {
   "display_name": "Python 3",
   "language": "python",
   "name": "python3"
  },
  "language_info": {
   "codemirror_mode": {
    "name": "ipython",
    "version": 3
   },
   "file_extension": ".py",
   "mimetype": "text/x-python",
   "name": "python",
   "nbconvert_exporter": "python",
   "pygments_lexer": "ipython3",
   "version": "3.6.8"
  }
 },
 "nbformat": 4,
 "nbformat_minor": 2
}
