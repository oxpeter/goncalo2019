{
 "cells": [
  {
   "cell_type": "markdown",
   "metadata": {},
   "source": [
    "# RNAseq analysis of microglial cells\n",
    "> Goncalo Rodrigues _et al._ (2018)\n"
   ]
  },
  {
   "cell_type": "markdown",
   "metadata": {},
   "source": [
    "# METHODS\n",
    "### RNASeq Quality check and alignment\n",
    "RNASeq fastq files were analyzed with FastQC[1] v0.11.7 to assess sequence base quality, per-base sequence content, GC content, N content, and the sequence length distribution. Reads were subsequently trimmed using Trimmomatic[2] v0.38, to remove Illumina adapters, leading and trailing bases with score ≤ 3, all bases after the sliding window average ≤ 15, and all edited reads ≤ 36 bp.\n",
    "Reads were aligned to _Mus musculus_ annotation GRCm38.p6 using Salmon[3] v0.10.0. Default parameters were used for building the index and for alignment.\n",
    "\n",
    "\n",
    "### Differential expression analysis\n",
    "DESeq2[4] v1.18.1 was used to assess differential gene expression using the likelihood ratio test, with the model `~ replicate + condition` analyzed against the reduced model `~ replicate`. Variance Stabilized Transformed gene counts were used to identify outliers, using both Principal Component Analysis and sample clustering (using the euclidean distance metric and the complete clustering method). Two samples - wildtype replicate C and PBS replicate C - were removed from further analysis.\n",
    "\n",
    "To identify significant contrasts between treatments, a _post hoc_ analysis of genes differentially expressed according to LRT analysis was performed. DESeq2 was used to perform the nbinomial Wald test for contrasts between PBS, WT, KO1 and KO2. \n",
    "\n",
    "The focal gene set was identified as those genes in which:\n",
    "* the likelihood ratio test was significant (*p* ≤ 0.05)\n",
    "* WT and PBS were significantly differentially expressed (*p* ≤ 0.05)\n",
    "* WT was significantly different from both KO1 and KO2 (*p* ≤ 0.05 in each contrast)\n",
    "* KO1 and KO2 were concordantly up- or down- regulated with regard to WT\n",
    "\n",
    "Log2(Fold change) values and _p_ values are reported according to the Wald tests.\n",
    "\n",
    "Gene names were mapped to entrez gene identifiers using ensembl biomart[5], mouse version GRCm38.p6.\n",
    "\n",
    "All scripts and output of the differential analysis are available at doi: <available on publication>. The R Script used for differential expression analysis can be found in supplementary file differential-expression-analysis.R The python script used for subsequent post hoc analysis can be found in the Jupyter notebooks endothelial_expression_analysis.ipynb and microglial_expression_analysis.ipynb.\n",
    "\n",
    "\n",
    "### Bibliography\n",
    "1. Andrews, S. FastQC: a quality control tool for high throughput sequence data. (2010). at <http://www.bioinformatics.babraham.ac.uk/projects/fastqc>\n",
    "2. Bolger, A. M., Lohse, M. & Usadel, B. Trimmomatic: a flexible trimmer for Illumina sequence data. Bioinformatics 30, 2114–2120 (2014).\n",
    "3. Patro, R., Duggal, G., Love, M. I., Irizarry, R. A. & Kingsford, C. Salmon provides fast and bias-aware quantification of transcript expression. Nat. Methods 14, 417–419 (2017).\n",
    "4. Love, M. I., Huber, W. & Anders, S. Moderated estimation of fold change and  dispersion for RNA-seq data with DESeq2. Genome Biol. 15, 550 (2014).\n",
    "5. Zerbino, D. R. et al. Ensembl 2018. Nucleic Acids Res. 46, D754–D761 (2018).\n"
   ]
  },
  {
   "cell_type": "markdown",
   "metadata": {},
   "source": [
    "# NOTEBOOK ANALYSIS"
   ]
  },
  {
   "cell_type": "code",
   "execution_count": 1,
   "metadata": {},
   "outputs": [],
   "source": [
    "import numpy as np\n",
    "import pandas as pd"
   ]
  },
  {
   "cell_type": "code",
   "execution_count": 2,
   "metadata": {},
   "outputs": [],
   "source": [
    "%matplotlib inline\n",
    "import matplotlib.pyplot as plt\n",
    "import matplotlib.patches as mpatches\n",
    "import seaborn as sns"
   ]
  },
  {
   "cell_type": "code",
   "execution_count": 3,
   "metadata": {
    "collapsed": true
   },
   "outputs": [],
   "source": [
    "from scipy.spatial.distance import pdist, squareform, warnings"
   ]
  },
  {
   "cell_type": "code",
   "execution_count": 4,
   "metadata": {},
   "outputs": [],
   "source": [
    "warnings.simplefilter('ignore',)"
   ]
  },
  {
   "cell_type": "code",
   "execution_count": 5,
   "metadata": {},
   "outputs": [],
   "source": [
    "import re"
   ]
  },
  {
   "cell_type": "markdown",
   "metadata": {},
   "source": [
    "## Load Data\n",
    "this includes the DESeq2 LRT analysis results, and the variance stabilized transformed (VST) expression values"
   ]
  },
  {
   "cell_type": "code",
   "execution_count": 6,
   "metadata": {},
   "outputs": [],
   "source": [
    "df_mg = pd.read_csv(\"../DESeq2_R-project/res_mg-results.csv\", sep=',')"
   ]
  },
  {
   "cell_type": "code",
   "execution_count": 7,
   "metadata": {},
   "outputs": [
    {
     "data": {
      "text/html": [
       "<div>\n",
       "<style scoped>\n",
       "    .dataframe tbody tr th:only-of-type {\n",
       "        vertical-align: middle;\n",
       "    }\n",
       "\n",
       "    .dataframe tbody tr th {\n",
       "        vertical-align: top;\n",
       "    }\n",
       "\n",
       "    .dataframe thead th {\n",
       "        text-align: right;\n",
       "    }\n",
       "</style>\n",
       "<table border=\"1\" class=\"dataframe\">\n",
       "  <thead>\n",
       "    <tr style=\"text-align: right;\">\n",
       "      <th></th>\n",
       "      <th>Unnamed: 0</th>\n",
       "      <th>baseMean</th>\n",
       "      <th>log2FoldChange</th>\n",
       "      <th>lfcSE</th>\n",
       "      <th>stat</th>\n",
       "      <th>pvalue</th>\n",
       "      <th>padj</th>\n",
       "    </tr>\n",
       "  </thead>\n",
       "  <tbody>\n",
       "    <tr>\n",
       "      <th>0</th>\n",
       "      <td>11287</td>\n",
       "      <td>1.934590</td>\n",
       "      <td>-0.593551</td>\n",
       "      <td>4.247045</td>\n",
       "      <td>1.276578</td>\n",
       "      <td>0.734702</td>\n",
       "      <td>NaN</td>\n",
       "    </tr>\n",
       "    <tr>\n",
       "      <th>1</th>\n",
       "      <td>11298</td>\n",
       "      <td>0.316304</td>\n",
       "      <td>2.098142</td>\n",
       "      <td>4.211749</td>\n",
       "      <td>0.641457</td>\n",
       "      <td>0.886880</td>\n",
       "      <td>NaN</td>\n",
       "    </tr>\n",
       "    <tr>\n",
       "      <th>2</th>\n",
       "      <td>11302</td>\n",
       "      <td>12.814439</td>\n",
       "      <td>-3.345539</td>\n",
       "      <td>3.946821</td>\n",
       "      <td>2.067634</td>\n",
       "      <td>0.558488</td>\n",
       "      <td>NaN</td>\n",
       "    </tr>\n",
       "    <tr>\n",
       "      <th>3</th>\n",
       "      <td>11303</td>\n",
       "      <td>2981.665707</td>\n",
       "      <td>0.299286</td>\n",
       "      <td>0.285279</td>\n",
       "      <td>3.675644</td>\n",
       "      <td>0.298686</td>\n",
       "      <td>0.903654</td>\n",
       "    </tr>\n",
       "    <tr>\n",
       "      <th>4</th>\n",
       "      <td>11304</td>\n",
       "      <td>0.000000</td>\n",
       "      <td>NaN</td>\n",
       "      <td>NaN</td>\n",
       "      <td>NaN</td>\n",
       "      <td>NaN</td>\n",
       "      <td>NaN</td>\n",
       "    </tr>\n",
       "  </tbody>\n",
       "</table>\n",
       "</div>"
      ],
      "text/plain": [
       "   Unnamed: 0     baseMean  log2FoldChange     lfcSE      stat    pvalue  \\\n",
       "0       11287     1.934590       -0.593551  4.247045  1.276578  0.734702   \n",
       "1       11298     0.316304        2.098142  4.211749  0.641457  0.886880   \n",
       "2       11302    12.814439       -3.345539  3.946821  2.067634  0.558488   \n",
       "3       11303  2981.665707        0.299286  0.285279  3.675644  0.298686   \n",
       "4       11304     0.000000             NaN       NaN       NaN       NaN   \n",
       "\n",
       "       padj  \n",
       "0       NaN  \n",
       "1       NaN  \n",
       "2       NaN  \n",
       "3  0.903654  \n",
       "4       NaN  "
      ]
     },
     "execution_count": 7,
     "metadata": {},
     "output_type": "execute_result"
    }
   ],
   "source": [
    "df_mg.head()"
   ]
  },
  {
   "cell_type": "markdown",
   "metadata": {},
   "source": [
    "NB: NaN values arise when the LRT statistic cannot be calculated (if all values are 0), or when the gene is filtered due to low basemean and high variance (padj only)"
   ]
  },
  {
   "cell_type": "code",
   "execution_count": 8,
   "metadata": {},
   "outputs": [
    {
     "data": {
      "text/plain": [
       "238"
      ]
     },
     "execution_count": 8,
     "metadata": {},
     "output_type": "execute_result"
    }
   ],
   "source": [
    "# view the number of differentially expressed genes:\n",
    "df_mg[df_mg.padj <= 0.05].shape[0]"
   ]
  },
  {
   "cell_type": "markdown",
   "metadata": {},
   "source": [
    "**Load the gene name table**\n",
    "\n",
    "This table allows conversion between isoform, gene, uniprot gene id and ncbi gene name."
   ]
  },
  {
   "cell_type": "code",
   "execution_count": 9,
   "metadata": {},
   "outputs": [
    {
     "data": {
      "text/html": [
       "<div>\n",
       "<style scoped>\n",
       "    .dataframe tbody tr th:only-of-type {\n",
       "        vertical-align: middle;\n",
       "    }\n",
       "\n",
       "    .dataframe tbody tr th {\n",
       "        vertical-align: top;\n",
       "    }\n",
       "\n",
       "    .dataframe thead th {\n",
       "        text-align: right;\n",
       "    }\n",
       "</style>\n",
       "<table border=\"1\" class=\"dataframe\">\n",
       "  <thead>\n",
       "    <tr style=\"text-align: right;\">\n",
       "      <th></th>\n",
       "      <th>refseq_mrna</th>\n",
       "      <th>entrezgene</th>\n",
       "      <th>uniprot_gn</th>\n",
       "      <th>external_gene_name</th>\n",
       "    </tr>\n",
       "  </thead>\n",
       "  <tbody>\n",
       "    <tr>\n",
       "      <th>1</th>\n",
       "      <td>NM_001001130</td>\n",
       "      <td>22746</td>\n",
       "      <td>Q7TMC9</td>\n",
       "      <td>Zfp85</td>\n",
       "    </tr>\n",
       "    <tr>\n",
       "      <th>2</th>\n",
       "      <td>NM_001001144</td>\n",
       "      <td>235623</td>\n",
       "      <td>Q6GQT6</td>\n",
       "      <td>Scap</td>\n",
       "    </tr>\n",
       "    <tr>\n",
       "      <th>3</th>\n",
       "      <td>NM_001001152</td>\n",
       "      <td>238690</td>\n",
       "      <td>Q7M6X6</td>\n",
       "      <td>Zfp458</td>\n",
       "    </tr>\n",
       "    <tr>\n",
       "      <th>4</th>\n",
       "      <td>NM_001001152</td>\n",
       "      <td>238690</td>\n",
       "      <td>Q6P5C7</td>\n",
       "      <td>Zfp458</td>\n",
       "    </tr>\n",
       "    <tr>\n",
       "      <th>5</th>\n",
       "      <td>NM_001001160</td>\n",
       "      <td>330369</td>\n",
       "      <td>Q6NS60</td>\n",
       "      <td>Fbxo41</td>\n",
       "    </tr>\n",
       "  </tbody>\n",
       "</table>\n",
       "</div>"
      ],
      "text/plain": [
       "    refseq_mrna  entrezgene uniprot_gn external_gene_name\n",
       "1  NM_001001130       22746     Q7TMC9              Zfp85\n",
       "2  NM_001001144      235623     Q6GQT6               Scap\n",
       "3  NM_001001152      238690     Q7M6X6             Zfp458\n",
       "4  NM_001001152      238690     Q6P5C7             Zfp458\n",
       "5  NM_001001160      330369     Q6NS60             Fbxo41"
      ]
     },
     "execution_count": 9,
     "metadata": {},
     "output_type": "execute_result"
    }
   ],
   "source": [
    "df_names = pd.read_csv(\"../scripts/transcript-name-conversion.csv\")\n",
    "\n",
    "# convert entrez geneid to integer\n",
    "df_names['entrezgene'] = df_names.entrezgene.apply(lambda x: 0 if pd.isnull(x) else int(x))\n",
    "df_names.head()"
   ]
  },
  {
   "cell_type": "markdown",
   "metadata": {},
   "source": [
    "**Load the expression data**"
   ]
  },
  {
   "cell_type": "code",
   "execution_count": 10,
   "metadata": {},
   "outputs": [],
   "source": [
    "df_mg_exp = pd.read_csv(\"../DESeq2_R-project/counts-mg-vst.csv\", \n",
    "                        delim_whitespace=True\n",
    "                       )"
   ]
  },
  {
   "cell_type": "code",
   "execution_count": 11,
   "metadata": {},
   "outputs": [],
   "source": [
    "df_mg_merge = pd.merge(left=df_mg, right=df_names.iloc[:, 1:], \n",
    "                        left_on=\"Unnamed: 0\", right_on=\"entrezgene\",\n",
    "                        how=\"left\")"
   ]
  },
  {
   "cell_type": "code",
   "execution_count": 12,
   "metadata": {},
   "outputs": [],
   "source": [
    "df_mg_merge[df_mg_merge.padj <= 0.05].to_csv(\"MG_LRT_DEGs.csv\")"
   ]
  },
  {
   "cell_type": "code",
   "execution_count": 13,
   "metadata": {},
   "outputs": [
    {
     "name": "stdout",
     "output_type": "stream",
     "text": [
      "238 differentially expressed genes:\n",
      "Acod1,Ccl5,Ifit1,Ccl2,Cxcl2,Cxcl1,Usp18,Sod2,Cxcl3,Irgm2,Lgals3bp,Map3k2,Ccrl2,Ptgs2,Fcgr1,Ifitm3,Cxcl10,Cybb,Bst2,Tnfrsf1b,Gbp9,Rtp4,Siglec1,Stat2,Zbp1,Wdr35,Tnf,Gsap,Slc31a2,Il1b,Mfsd8,Mfap3l,B2m,Ifit3b,Sbno1,Syk,Ints14,H2-Q4,Grap,Smug1,Atp10a,Pros1,Ctsc,Rnaset2b,Rsad2,Skiv2l2,Mgat4a,Ifi209,Tsc1,Rsbn1,Chchd10,Plau,F2r,Uba7,Irgm1,Poc5,Glrx,Tmem87a,Tlr2,Kctd12,Tnfaip3,Laptm5,Sp100,Ttll4,Aldh18a1,Mdm4,Gabpb2,Flna,Ifi27l2a,Zc3hav1,Ifnb1,Tjp2,Phf11d,Rab43,Siglech,Milr1,Mfsd9,Wars,Clec4e,Parp14,Atp6v0d2,Ifi205,Heatr3,Irf9,Zcwpw1,Nrp2,Pla2g7,Itgb1bp1,Virma,Shisa5,Cd53,Ipo13,Wdr92,Cdk5rap2,Nkiras2,Parp12,H2-T24,Mif,Psen1,Zfp646,Gzf1,Rab11fip1,Utp20,Zdhhc7,Pcdhgc3,Zfp248,Atf7,Echs1,Map2k3,Trp53inp2,Lilr4b,Slfn2,Ndst2,Gng2,Pld4,Ier3,Trex1,Slfn1,Traf3ip1,Aldh2,Abcf3,Mmp14,Iqgap1,Synj2bp,Ap3d1,Lta4h,Tpcn2,Ifit3,H2-T23,Sgk1,Rab3gap2,Adar,3830406C13Rik,Pim1,Sart3,Plpp3,Tmem147,Rhob,Flvcr2,Smpd4,U2surp,Pkn2,Fam134b,Ampd2,Spp1,Pole2,Sfxn1,Capzb,Plagl2,Ms4a7,Fbxo11,Ctsd,Fbxo9,Zfyve1,Bclaf1,Ccdc88a,Scoc,Plxdc2,Rp2,Prkab1,Ccng1,Baz2b,Hk1,Atp6v1c1,Mt2,Atp6v0a2,Mesd,Hyou1,Aacs,Nfkbid,Poldip3,Dtx3l,Cxcl16,Faf2,Zfp119b,Hbs1l,Arpc5l,Golga3,Mettl21a,Xk,Phgdh,Lrch3,Sec24b,Ptpre,H2-Q7,Il1a,Herc6,Smg1,Nfkbia,Cog1,Atp13a1,Nmt1,Fig4,Sik3,Trpc4ap,Tmem87b,Dhx38,Herc3,Cep57,Ccdc93,Abtb1,Micall1,Gdf15,Cd52,Slc35a2,Cox6a2,Gosr1,Slc25a36,Slu7,Zbtb2,Slc2a10,Tsg101,Irf7,Ddx24,Tspan17,Keap1,Psat1,Numa1,Ap1g2,Phf11b,Tmem260,Uqcrc1,Lpcat2,Rassf5,Desi2,Nod1,Pard6b,B430306N03Rik,Gbp10,Ankfy1,Slfn8,Gm11127,Nfkb2,Sept11,Fam207a,Tbcd,Akap6,C5ar1\n"
     ]
    }
   ],
   "source": [
    "deg_gene_names = df_mg_merge[df_mg_merge.padj <= 0.05\n",
    "                            ].sort_values(\"padj\"\n",
    "                            ).external_gene_name.unique()\n",
    "print(len(deg_gene_names), \"differentially expressed genes:\")\n",
    "print(\",\".join(deg_gene_names))"
   ]
  },
  {
   "cell_type": "code",
   "execution_count": 14,
   "metadata": {},
   "outputs": [
    {
     "name": "stdout",
     "output_type": "stream",
     "text": [
      "238 differentially expressed genes (entrez id):\n",
      "16365,20304,15957,20296,20310,14825,24110,20656,330122,54396,19039,26405,54199,19225,14129,66141,15945,13058,69550,21938,236573,67775,20612,20847,58203,74682,21926,212167,20530,16176,72175,71306,12010,667370,243272,20963,69882,15015,71520,71726,11982,19128,13032,68195,58185,72198,269181,236312,64930,229675,103172,18792,14062,74153,15944,67463,93692,211499,24088,239217,21929,16792,20684,67534,56454,17248,213054,192176,76933,78781,15977,21873,219132,69834,233274,380732,211798,22375,56619,547253,242341,226695,234549,16391,381678,18187,27226,16413,66185,66940,12508,230673,103784,214444,71966,243771,15042,17319,19164,233905,74533,75767,70683,102193,93706,72720,223922,93747,26397,68728,14727,20556,17423,14702,104759,15937,22040,20555,74019,11669,27406,17387,29875,24071,11776,16993,233979,15959,15040,20393,98732,56417,218734,18712,53890,67916,69804,11852,217721,77626,67958,109333,66270,109674,20750,18974,14057,12345,54711,109225,225055,13033,71538,217695,72567,108686,56367,67448,19889,19079,12450,407823,15275,66335,17750,21871,67943,12282,78894,243910,73826,209200,66102,76577,240120,56422,74192,269682,67099,22439,236539,70144,99683,19267,15018,16175,67138,233789,18035,16834,170759,18107,103199,70661,56407,72477,64340,73998,74360,70829,80283,27008,23886,23833,22232,12862,53334,192287,193116,381990,170441,22088,54123,27225,74257,50868,107272,101706,11766,236451,218989,22273,270084,54354,78825,107607,58220,320148,626578,11736,276950,100529082,18034,52398,108707,108903,238161,12273\n"
     ]
    }
   ],
   "source": [
    "deg_gene_names = df_mg_merge[df_mg_merge.padj <= 0.05\n",
    "                            ].sort_values(\"padj\").entrezgene.unique()\n",
    "print(len(deg_gene_names), \"differentially expressed genes (entrez id):\")\n",
    "print(\",\".join([str(i) for i in deg_gene_names]))"
   ]
  },
  {
   "cell_type": "code",
   "execution_count": 15,
   "metadata": {},
   "outputs": [],
   "source": [
    "s_name_conversion = df_mg_merge.set_index(\"entrezgene\").external_gene_name.drop_duplicates()"
   ]
  },
  {
   "cell_type": "code",
   "execution_count": 16,
   "metadata": {},
   "outputs": [],
   "source": [
    "degs_mg = df_mg[df_mg.padj <= 0.05][\"Unnamed: 0\"].values"
   ]
  },
  {
   "cell_type": "code",
   "execution_count": 17,
   "metadata": {},
   "outputs": [],
   "source": [
    "df_mg_degs_exp = df_mg_exp[df_mg_exp.index.isin(degs_mg)]"
   ]
  },
  {
   "cell_type": "code",
   "execution_count": 18,
   "metadata": {},
   "outputs": [
    {
     "data": {
      "image/png": "[encoded data removed]",
      "text/plain": [
       "<Figure size 1008x1080 with 4 Axes>"
      ]
     },
     "metadata": {},
     "output_type": "display_data"
    }
   ],
   "source": [
    "sns.clustermap(method='complete', metric='euclidean',\n",
    "                data=df_mg_degs_exp, z_score=0, \n",
    "                yticklabels=[s_name_conversion.loc[idx] for idx in df_mg_degs_exp.index],\n",
    "               figsize=(14,15)\n",
    "              )\n",
    "plt.show()"
   ]
  },
  {
   "cell_type": "markdown",
   "metadata": {},
   "source": [
    "# _post hoc_ analysis of DEGs\n",
    "This is to identify, from among the DEGs already found above with the LRT model, those contrasts for which there are significant differences between conditions"
   ]
  },
  {
   "cell_type": "markdown",
   "metadata": {},
   "source": [
    "## load _post hoc_ data"
   ]
  },
  {
   "cell_type": "code",
   "execution_count": 19,
   "metadata": {},
   "outputs": [],
   "source": [
    "# suffix indicates the contrast analysed\n",
    "fp_pw = \"../DESeq2_R-project/res_mg_wald_PW-results.csv\"\n",
    "fp_pk1 = \"../DESeq2_R-project/res_mg_wald_PK1-results.csv\"\n",
    "fp_pk2 = \"../DESeq2_R-project/res_mg_wald_PK2-results.csv\"\n",
    "fp_k1k2 = \"../DESeq2_R-project/res_mg_wald_K1K2-results.csv\"\n",
    "fp_wk1 = \"../DESeq2_R-project/res_mg_wald_WK1-results.csv\"\n",
    "fp_wk2 = \"../DESeq2_R-project/res_mg_wald_WK2-results.csv\""
   ]
  },
  {
   "cell_type": "code",
   "execution_count": 20,
   "metadata": {},
   "outputs": [],
   "source": [
    "# set header names\n",
    "names_base = [\"entrezgene\", \"baseMean\", \"log2FoldChange\", \n",
    "              \"lfcSE\", \"stat\", \"pvalue\", \"padj\"]\n",
    "conditions_base = [\"pw\", \"pk1\", \"pk2\", \"k1k2\", \"wk1\", \"wk2\"]\n",
    "names_pw = [ \"{}_pw\".format(x) for x in names_base ]\n",
    "names_pk1 = [ \"{}_pk1\".format(x) for x in names_base ]\n",
    "names_pk2 = [ \"{}_pk2\".format(x) for x in names_base ]\n",
    "names_k1k2 = [ \"{}_k1k2\".format(x) for x in names_base ]\n",
    "names_wk1 = [ \"{}_wk1\".format(x) for x in names_base ]\n",
    "names_wk2 = [ \"{}_wk2\".format(x) for x in names_base ]"
   ]
  },
  {
   "cell_type": "code",
   "execution_count": 21,
   "metadata": {},
   "outputs": [],
   "source": [
    "# create dataframes\n",
    "df_pw = pd.read_csv(fp_pw, header=0, names=names_pw).set_index(\"entrezgene_pw\")\n",
    "df_pk1 = pd.read_csv(fp_pk1, header=0, names=names_pk1).set_index(\"entrezgene_pk1\")\n",
    "df_pk2 = pd.read_csv(fp_pk2, header=0, names=names_pk2).set_index(\"entrezgene_pk2\")\n",
    "df_k1k2 = pd.read_csv(fp_k1k2, header=0, names=names_k1k2).set_index(\"entrezgene_k1k2\")\n",
    "df_wk1 = pd.read_csv(fp_wk1, header=0, names=names_wk1).set_index(\"entrezgene_wk1\")\n",
    "df_wk2 = pd.read_csv(fp_wk2, header=0, names=names_wk2).set_index(\"entrezgene_wk2\")\n"
   ]
  },
  {
   "cell_type": "code",
   "execution_count": 22,
   "metadata": {},
   "outputs": [],
   "source": [
    "# merge dataframes together:\n",
    "df_posthoc = pd.concat([df_pw, df_pk1, df_pk2, df_k1k2, df_wk1, df_wk2], axis=1)"
   ]
  },
  {
   "cell_type": "code",
   "execution_count": 23,
   "metadata": {},
   "outputs": [
    {
     "data": {
      "text/html": [
       "<div>\n",
       "<style scoped>\n",
       "    .dataframe tbody tr th:only-of-type {\n",
       "        vertical-align: middle;\n",
       "    }\n",
       "\n",
       "    .dataframe tbody tr th {\n",
       "        vertical-align: top;\n",
       "    }\n",
       "\n",
       "    .dataframe thead th {\n",
       "        text-align: right;\n",
       "    }\n",
       "</style>\n",
       "<table border=\"1\" class=\"dataframe\">\n",
       "  <thead>\n",
       "    <tr style=\"text-align: right;\">\n",
       "      <th></th>\n",
       "      <th>baseMean_pw</th>\n",
       "      <th>log2FoldChange_pw</th>\n",
       "      <th>lfcSE_pw</th>\n",
       "      <th>stat_pw</th>\n",
       "      <th>pvalue_pw</th>\n",
       "      <th>padj_pw</th>\n",
       "      <th>baseMean_pk1</th>\n",
       "      <th>log2FoldChange_pk1</th>\n",
       "      <th>lfcSE_pk1</th>\n",
       "      <th>stat_pk1</th>\n",
       "      <th>...</th>\n",
       "      <th>lfcSE_wk1</th>\n",
       "      <th>stat_wk1</th>\n",
       "      <th>pvalue_wk1</th>\n",
       "      <th>padj_wk1</th>\n",
       "      <th>baseMean_wk2</th>\n",
       "      <th>log2FoldChange_wk2</th>\n",
       "      <th>lfcSE_wk2</th>\n",
       "      <th>stat_wk2</th>\n",
       "      <th>pvalue_wk2</th>\n",
       "      <th>padj_wk2</th>\n",
       "    </tr>\n",
       "  </thead>\n",
       "  <tbody>\n",
       "    <tr>\n",
       "      <th>11287</th>\n",
       "      <td>1.934590</td>\n",
       "      <td>4.768127</td>\n",
       "      <td>4.697422</td>\n",
       "      <td>1.015052</td>\n",
       "      <td>0.310081</td>\n",
       "      <td>0.819093</td>\n",
       "      <td>1.934590</td>\n",
       "      <td>5.921332</td>\n",
       "      <td>4.697530</td>\n",
       "      <td>1.260520</td>\n",
       "      <td>...</td>\n",
       "      <td>4.247045</td>\n",
       "      <td>0.271531</td>\n",
       "      <td>7.859826e-01</td>\n",
       "      <td>9.992019e-01</td>\n",
       "      <td>1.934590</td>\n",
       "      <td>0.593551</td>\n",
       "      <td>4.247045</td>\n",
       "      <td>0.139756</td>\n",
       "      <td>0.888853</td>\n",
       "      <td>0.997184</td>\n",
       "    </tr>\n",
       "    <tr>\n",
       "      <th>11298</th>\n",
       "      <td>0.316304</td>\n",
       "      <td>-0.270229</td>\n",
       "      <td>4.903197</td>\n",
       "      <td>-0.055113</td>\n",
       "      <td>0.956049</td>\n",
       "      <td>0.998468</td>\n",
       "      <td>0.316304</td>\n",
       "      <td>-0.079014</td>\n",
       "      <td>4.903307</td>\n",
       "      <td>-0.016114</td>\n",
       "      <td>...</td>\n",
       "      <td>4.247045</td>\n",
       "      <td>0.045023</td>\n",
       "      <td>9.640890e-01</td>\n",
       "      <td>9.992019e-01</td>\n",
       "      <td>0.316304</td>\n",
       "      <td>-2.098142</td>\n",
       "      <td>4.211749</td>\n",
       "      <td>-0.498164</td>\n",
       "      <td>0.618368</td>\n",
       "      <td>0.997184</td>\n",
       "    </tr>\n",
       "    <tr>\n",
       "      <th>11302</th>\n",
       "      <td>12.814439</td>\n",
       "      <td>3.962726</td>\n",
       "      <td>4.484222</td>\n",
       "      <td>0.883704</td>\n",
       "      <td>0.376856</td>\n",
       "      <td>0.869637</td>\n",
       "      <td>12.814439</td>\n",
       "      <td>27.788118</td>\n",
       "      <td>4.570384</td>\n",
       "      <td>6.080040</td>\n",
       "      <td>...</td>\n",
       "      <td>4.026470</td>\n",
       "      <td>5.917191</td>\n",
       "      <td>3.274860e-09</td>\n",
       "      <td>4.912291e-07</td>\n",
       "      <td>12.814439</td>\n",
       "      <td>3.345539</td>\n",
       "      <td>3.946821</td>\n",
       "      <td>0.847654</td>\n",
       "      <td>0.396631</td>\n",
       "      <td>0.997184</td>\n",
       "    </tr>\n",
       "    <tr>\n",
       "      <th>11303</th>\n",
       "      <td>2981.665707</td>\n",
       "      <td>0.513416</td>\n",
       "      <td>0.329137</td>\n",
       "      <td>1.559885</td>\n",
       "      <td>0.118787</td>\n",
       "      <td>0.545990</td>\n",
       "      <td>2981.665707</td>\n",
       "      <td>0.535819</td>\n",
       "      <td>0.329112</td>\n",
       "      <td>1.628077</td>\n",
       "      <td>...</td>\n",
       "      <td>0.285218</td>\n",
       "      <td>0.078547</td>\n",
       "      <td>9.373928e-01</td>\n",
       "      <td>9.992019e-01</td>\n",
       "      <td>2981.665707</td>\n",
       "      <td>-0.299286</td>\n",
       "      <td>0.285279</td>\n",
       "      <td>-1.049098</td>\n",
       "      <td>0.294133</td>\n",
       "      <td>0.997184</td>\n",
       "    </tr>\n",
       "    <tr>\n",
       "      <th>11304</th>\n",
       "      <td>0.000000</td>\n",
       "      <td>NaN</td>\n",
       "      <td>NaN</td>\n",
       "      <td>NaN</td>\n",
       "      <td>NaN</td>\n",
       "      <td>NaN</td>\n",
       "      <td>0.000000</td>\n",
       "      <td>NaN</td>\n",
       "      <td>NaN</td>\n",
       "      <td>NaN</td>\n",
       "      <td>...</td>\n",
       "      <td>NaN</td>\n",
       "      <td>NaN</td>\n",
       "      <td>NaN</td>\n",
       "      <td>NaN</td>\n",
       "      <td>0.000000</td>\n",
       "      <td>NaN</td>\n",
       "      <td>NaN</td>\n",
       "      <td>NaN</td>\n",
       "      <td>NaN</td>\n",
       "      <td>NaN</td>\n",
       "    </tr>\n",
       "  </tbody>\n",
       "</table>\n",
       "<p>5 rows × 36 columns</p>\n",
       "</div>"
      ],
      "text/plain": [
       "       baseMean_pw  log2FoldChange_pw  lfcSE_pw   stat_pw  pvalue_pw  \\\n",
       "11287     1.934590           4.768127  4.697422  1.015052   0.310081   \n",
       "11298     0.316304          -0.270229  4.903197 -0.055113   0.956049   \n",
       "11302    12.814439           3.962726  4.484222  0.883704   0.376856   \n",
       "11303  2981.665707           0.513416  0.329137  1.559885   0.118787   \n",
       "11304     0.000000                NaN       NaN       NaN        NaN   \n",
       "\n",
       "        padj_pw  baseMean_pk1  log2FoldChange_pk1  lfcSE_pk1  stat_pk1  ...  \\\n",
       "11287  0.819093      1.934590            5.921332   4.697530  1.260520  ...   \n",
       "11298  0.998468      0.316304           -0.079014   4.903307 -0.016114  ...   \n",
       "11302  0.869637     12.814439           27.788118   4.570384  6.080040  ...   \n",
       "11303  0.545990   2981.665707            0.535819   0.329112  1.628077  ...   \n",
       "11304       NaN      0.000000                 NaN        NaN       NaN  ...   \n",
       "\n",
       "       lfcSE_wk1  stat_wk1    pvalue_wk1      padj_wk1  baseMean_wk2  \\\n",
       "11287   4.247045  0.271531  7.859826e-01  9.992019e-01      1.934590   \n",
       "11298   4.247045  0.045023  9.640890e-01  9.992019e-01      0.316304   \n",
       "11302   4.026470  5.917191  3.274860e-09  4.912291e-07     12.814439   \n",
       "11303   0.285218  0.078547  9.373928e-01  9.992019e-01   2981.665707   \n",
       "11304        NaN       NaN           NaN           NaN      0.000000   \n",
       "\n",
       "       log2FoldChange_wk2  lfcSE_wk2  stat_wk2  pvalue_wk2  padj_wk2  \n",
       "11287            0.593551   4.247045  0.139756    0.888853  0.997184  \n",
       "11298           -2.098142   4.211749 -0.498164    0.618368  0.997184  \n",
       "11302            3.345539   3.946821  0.847654    0.396631  0.997184  \n",
       "11303           -0.299286   0.285279 -1.049098    0.294133  0.997184  \n",
       "11304                 NaN        NaN       NaN         NaN       NaN  \n",
       "\n",
       "[5 rows x 36 columns]"
      ]
     },
     "execution_count": 23,
     "metadata": {},
     "output_type": "execute_result"
    }
   ],
   "source": [
    "df_posthoc.head()"
   ]
  },
  {
   "cell_type": "markdown",
   "metadata": {},
   "source": [
    "## Identify focal geneset\n",
    "### create filters to identify each of the following subsets of genes:\n",
    "* the likelihood ratio test was significant (*p* ≤ 0.05)\n",
    "* WT and PBS were significantly differentially expressed (*p* ≤ 0.05)\n",
    "* WT was significantly different from both KO1 and KO2 (*p* ≤ 0.05 in each contrast)\n",
    "* KO1 and KO2 were concordantly up- or down- regulated with regard to WT\n"
   ]
  },
  {
   "cell_type": "code",
   "execution_count": 24,
   "metadata": {},
   "outputs": [],
   "source": [
    "# significant in LRT test\n",
    "mask_degs = df_posthoc.index.isin(degs_mg)"
   ]
  },
  {
   "cell_type": "code",
   "execution_count": 25,
   "metadata": {},
   "outputs": [],
   "source": [
    "# remove non sig for PBS vs WT P>0.05\n",
    "mask_pw_sig = (df_posthoc.pvalue_pw <= 0.05)"
   ]
  },
  {
   "cell_type": "code",
   "execution_count": 26,
   "metadata": {},
   "outputs": [],
   "source": [
    "# change PBS/WT to WT/PBS, for clearer interpretation of direction of change\n",
    "df_posthoc.loc[:, \"log2FoldChange_wp\"] = df_posthoc.loc[:, \"log2FoldChange_pw\"] * -1\n",
    "df_posthoc.loc[:, \"stat_wp\"] = df_posthoc.loc[:, \"stat_pw\"] * -1"
   ]
  },
  {
   "cell_type": "code",
   "execution_count": 27,
   "metadata": {},
   "outputs": [],
   "source": [
    "# Remove non significant in wt vs k1 and/or k2\n",
    "mask_wk_sig = (df_posthoc.pvalue_wk1 <= 0.05) & (df_posthoc.pvalue_wk2 <= 0.05)"
   ]
  },
  {
   "cell_type": "code",
   "execution_count": 28,
   "metadata": {},
   "outputs": [],
   "source": [
    "# tag significant in k1 vs k2\n",
    "mask_k1k2_sig = (df_posthoc.pvalue_k1k2 <= 0.05)"
   ]
  },
  {
   "cell_type": "code",
   "execution_count": 29,
   "metadata": {},
   "outputs": [],
   "source": [
    "# remove the ones changing significantly between WT/K1 and WT/K2 but in different senses\n",
    "mask_concordant = ((df_posthoc.log2FoldChange_wk1 / df_posthoc.log2FoldChange_wk2) > 0) "
   ]
  },
  {
   "cell_type": "markdown",
   "metadata": {},
   "source": [
    "### combine filters to identify focal geneset"
   ]
  },
  {
   "cell_type": "code",
   "execution_count": 30,
   "metadata": {},
   "outputs": [],
   "source": [
    "df_final = df_posthoc[mask_degs &\n",
    "                      mask_pw_sig & \n",
    "                      mask_wk_sig &\n",
    "                      mask_concordant\n",
    "                     ]"
   ]
  },
  {
   "cell_type": "code",
   "execution_count": 31,
   "metadata": {},
   "outputs": [
    {
     "data": {
      "text/plain": [
       "(25, 38)"
      ]
     },
     "execution_count": 31,
     "metadata": {},
     "output_type": "execute_result"
    }
   ],
   "source": [
    "df_final.shape"
   ]
  },
  {
   "cell_type": "markdown",
   "metadata": {},
   "source": [
    "### Print list of 25 focal genes"
   ]
  },
  {
   "cell_type": "code",
   "execution_count": 32,
   "metadata": {},
   "outputs": [],
   "source": [
    "# get gene names:\n",
    "final_list = pd.merge(left=df_final.reset_index(), \n",
    "                     right=df_names.drop_duplicates(subset=['entrezgene', 'external_gene_name']),\n",
    "                     left_on='index', right_on='entrezgene',\n",
    "                     how='inner'\n",
    "                    )['external_gene_name'].values"
   ]
  },
  {
   "cell_type": "code",
   "execution_count": 33,
   "metadata": {},
   "outputs": [
    {
     "name": "stdout",
     "output_type": "stream",
     "text": [
      "Cxcl1,Cxcl10,Acod1,Mdm4,Ptgs2,Ccl5,Syk,Tnf,Tnfrsf1b,Xk,Map3k2,Sart3,Ccrl2,Hbs1l,Aldh18a1,Trp53inp2,Bst2,Rab43,Bclaf1,Zfp248,Echs1,Fam207a,Fbxo11,Zfp119b,Parp14\n"
     ]
    }
   ],
   "source": [
    "print(\",\".join(final_list))"
   ]
  },
  {
   "cell_type": "markdown",
   "metadata": {},
   "source": [
    "## view correlation in expression differences between conditions"
   ]
  },
  {
   "cell_type": "code",
   "execution_count": 34,
   "metadata": {},
   "outputs": [
    {
     "data": {
      "image/png": "[encoded data removed]",
      "text/plain": [
       "<Figure size 432x288 with 1 Axes>"
      ]
     },
     "metadata": {},
     "output_type": "display_data"
    }
   ],
   "source": [
    "df_final.plot.scatter(x='log2FoldChange_wp',\n",
    "                      y='log2FoldChange_wk1'\n",
    "                     )\n",
    "plt.title(\"Correlation between wildtype:knockout 1 vs wildtype:PBS\")\n",
    "plt.show()"
   ]
  },
  {
   "cell_type": "code",
   "execution_count": 35,
   "metadata": {},
   "outputs": [
    {
     "data": {
      "image/png": "[encoded data removed]",
      "text/plain": [
       "<Figure size 432x288 with 1 Axes>"
      ]
     },
     "metadata": {},
     "output_type": "display_data"
    }
   ],
   "source": [
    "df_final.plot.scatter(x='log2FoldChange_pk1',\n",
    "                      y='log2FoldChange_wk1'\n",
    "                     )\n",
    "plt.title(\"Correlation between wildtype:knockout 1 vs PBS:knockout 1\")\n",
    "plt.show()"
   ]
  }
 ],
 "metadata": {
  "kernelspec": {
   "display_name": "Python 3",
   "language": "python",
   "name": "python3"
  },
  "language_info": {
   "codemirror_mode": {
    "name": "ipython",
    "version": 3
   },
   "file_extension": ".py",
   "mimetype": "text/x-python",
   "name": "python",
   "nbconvert_exporter": "python",
   "pygments_lexer": "ipython3",
   "version": "3.6.8"
  }
 },
 "nbformat": 4,
 "nbformat_minor": 2
}
